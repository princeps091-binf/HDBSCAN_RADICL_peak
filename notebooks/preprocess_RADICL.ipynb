{
 "cells": [
  {
   "cell_type": "code",
   "execution_count": 22,
   "metadata": {},
   "outputs": [
    {
     "name": "stdout",
     "output_type": "stream",
     "text": [
      "/home/vipink/Documents/FANTOM6/HDBSCAN_RADICL_peak/HDBSCAN_RADICL_peak/HDBSCAN_RADICL_peak\n"
     ]
    }
   ],
   "source": [
    "cd /home/vipink/Documents/FANTOM6/HDBSCAN_RADICL_peak/HDBSCAN_RADICL_peak/HDBSCAN_RADICL_peak"
   ]
  },
  {
   "cell_type": "code",
   "execution_count": 23,
   "metadata": {},
   "outputs": [],
   "source": [
    "from HDBSCAN_RADICL_peak.HDBSCAN_RADICL_peak import preprocess"
   ]
  }
 ],
 "metadata": {
  "kernelspec": {
   "display_name": "basic_binf",
   "language": "python",
   "name": "python3"
  },
  "language_info": {
   "codemirror_mode": {
    "name": "ipython",
    "version": 3
   },
   "file_extension": ".py",
   "mimetype": "text/x-python",
   "name": "python",
   "nbconvert_exporter": "python",
   "pygments_lexer": "ipython3",
   "version": "3.11.0"
  },
  "orig_nbformat": 4
 },
 "nbformat": 4,
 "nbformat_minor": 2
}
